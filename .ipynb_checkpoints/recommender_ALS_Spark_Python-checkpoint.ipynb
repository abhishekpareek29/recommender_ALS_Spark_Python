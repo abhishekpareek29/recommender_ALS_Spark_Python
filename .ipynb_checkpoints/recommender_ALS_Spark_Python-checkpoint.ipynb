{
 "cells": [
  {
   "cell_type": "markdown",
   "metadata": {},
   "source": [
    "# Music Recommender System using ALS Algorithm with Apache Spark and Python\n",
    "+ **Estimated Execution Time (whole script): 2 minutes**\n",
    "+ **Estimated Time (to complete the project): 8 hours**\n",
    "\n",
    "## Description\n",
    "\n",
    "For this project, you are to create a recommender system that will recommend new musical artists to a user based on their listening history. Suggesting different songs or musical artists to a user is important to many music streaming services, such as Pandora and Spotify. In addition, this type of recommender system could also be used as a means of suggesting TV shows or movies to a user (e.g., Netflix). \n",
    "\n",
    "To create this system you will be using Spark and the collaborative filtering technique. The instructions for completing this project will be laid out entirely in this file. You will have to implement any missing code as well as answer any questions.\n",
    "\n",
    "**Submission Instructions:** \n",
    "* Add all of your updates to this Jupyter Notebook file and do NOT clear any of the output you get from running your code.\n",
    "* Upload this file and the genererated HTML onto Moodle as a single zip folder called with your user name.\n",
    "\n",
    "## Datasets\n",
    "\n",
    "You will be using some publicly available song data from audioscrobbler, which can be found [here](http://www-etud.iro.umontreal.ca/~bergstrj/audioscrobbler_data.html). However, we modified the original data files so that the code will run in a reasonable time on a single machine. The reduced data files have been suffixed with `_small.txt` and contains only the information relevant to the top 50 most prolific users (highest artist play counts).\n",
    "\n",
    "The original data file `user_artist_data.txt` contained about 141,000 unique users, and 1.6 million unique artists. About 24.2 million users’ plays of artists are recorded, along with their count.\n",
    "\n",
    "Note that when plays are scribbled, the client application submits the name of the artist being played. This name could be misspelled or nonstandard, and this may only be detected later. For example, \"The Smiths\", \"Smiths, The\", and \"the smiths\" may appear as distinct artist IDs in the data set, even though they clearly refer to the same artist. So, the data set includes `artist_alias.txt`, which maps artist IDs that are known misspellings or variants to the canonical ID of that artist.\n",
    "\n",
    "The `artist_data.txt` file then provides a map from the canonical artist ID to the name of the artist."
   ]
  },
  {
   "cell_type": "code",
   "execution_count": 1,
   "metadata": {
    "collapsed": true
   },
   "outputs": [],
   "source": [
    "# Import libraries\n",
    "import findspark\n",
    "findspark.init()\n",
    "from pyspark.mllib.recommendation import *\n",
    "from pyspark import SparkConf, SparkContext\n",
    "import random\n",
    "from operator import *\n",
    "from collections import defaultdict"
   ]
  },
  {
   "cell_type": "code",
   "execution_count": 2,
   "metadata": {
    "collapsed": true
   },
   "outputs": [],
   "source": [
    "# Initialize Spark Context\n",
    "conf = (SparkConf()\n",
    "        .setMaster(\"local[2]\")\n",
    "        .setAppName(\"CountingSheep\"))\n",
    "sc = SparkContext.getOrCreate(conf = conf)"
   ]
  },
  {
   "cell_type": "markdown",
   "metadata": {},
   "source": [
    "## Loading data\n",
    "\n",
    "Load the three datasets into RDDs and name them `artistData`, `artistAlias`, and `userArtistData`. View the README, or the files themselves, to see how this data is formated. Some of the files have tab delimeters while some have space delimiters. Make sure that your `userArtistData` RDD contains only the canonical artist IDs."
   ]
  },
  {
   "cell_type": "code",
   "execution_count": 9,
   "metadata": {},
   "outputs": [
    {
     "name": "stdout",
     "output_type": "stream",
     "text": [
      "['1240105\\tAndré Visior', '1240113\\triow arai', '1240132\\tOutkast & Rage Against the Machine']\n",
      "['1027859\\t1252408', '1017615\\t668', '6745885\\t1268522']\n",
      "['1059637 1000010 238', '1059637 1000049 1', '1059637 1000056 1']\n"
     ]
    }
   ],
   "source": [
    "# Import test files from location into RDD variables\n",
    "artistData = sc.textFile(\"data_raw/artist_data_small.txt\")\n",
    "artistAlias = sc.textFile(\"data_raw/artist_alias_small.txt\")\n",
    "userArtistData = sc.textFile(\"data_raw/user_artist_data_small.txt\")\n",
    "\n",
    "print(artistData.take(3))\n",
    "print(artistAlias.take(3))\n",
    "print(userArtistData.take(3))"
   ]
  },
  {
   "cell_type": "markdown",
   "metadata": {},
   "source": [
    "## Data Exploration\n",
    "\n",
    "In the blank below, write some code that with find the users' total play counts. Find the three users with the highest number of total play counts (sum of all counters) and print the user ID, the total play count, and the mean play count (average number of times a user played an artist). Your output should look as follows:\n",
    "```\n",
    "User 1059637 has a total play count of 674412 and a mean play count of 1878.\n",
    "User 2064012 has a total play count of 548427 and a mean play count of 9455.\n",
    "User 2069337 has a total play count of 393515 and a mean play count of 1519.\n",
    "```\n",
    "\n"
   ]
  },
  {
   "cell_type": "code",
   "execution_count": 10,
   "metadata": {},
   "outputs": [
    {
     "name": "stdout",
     "output_type": "stream",
     "text": [
      "[(1240105, 'André Visior'), (1240113, 'riow arai')]\n",
      "[(1027859, 1252408), (1017615, 668)]\n",
      "[(1059637, 1000010, 238), (1059637, 1000049, 1)]\n",
      "===========\n",
      "{6895260: 1308328, 2085035: 1000236, 6843530: 1260159, 1002498: 3066, 1233934: 1234700, 15: 15, 2279441: 6834637, 1011730: 1239504, 1002670: 1034635, 1002892: 1002451, 6718488: 1059264, 9929753: 1007347, 1033242: 1000655, 9910959: 1034635, 2140188: 10334513, 1289246: 1023527, 10092575: 1000028, 1090594: 1009633, 9929763: 1003778, 1067365: 1003694, 10713436: 6611448, 1051692: 1307569, 1289264: 1013714, 1061384: 1252912, 1052722: 2797, 1197153: 1018406, 1027126: 1255783, 1246265: 1010669, 2126687: 1023928, 6617155: 1039381, 1006661: 1172842, 1351750: 1233610, 1010760: 1239516, 1323083: 1029530, 1042508: 1008824, 1305679: 1034635, 2118737: 1011363, 2069589: 1234503, 1280087: 1295531, 1314904: 6977528, 1179492: 1246136, 1013851: 1013851, 2009180: 6751847, 2147002: 10077841, 1139806: 1039249, 1211487: 1014738, 6704224: 9964755, 6786145: 300, 1338466: 71, 1020004: 1025647, 9929574: 1008086, 6622310: 1094137, 1089639: 1003694, 1049704: 1261464, 1063100: 1057539, 9974891: 1260159, 1086572: 1233677, 1275001: 1028445, 6843503: 1257158, 6677618: 1028295, 1271924: 1018769, 1084265: 1065358, 1102968: 1233982, 6640761: 1254011, 1028218: 1349406, 6703227: 1210979, 1255551: 1266817, 1239168: 1266817, 6642817: 1010969, 1112427: 1080556, 1039492: 1269417, 1252485: 1010725, 1279110: 2035089, 1262727: 2176737, 9929864: 1000699, 2101386: 2013670, 2026635: 1001597, 1286284: 5630, 2179213: 1111915, 1037848: 1007201, 9929875: 1009048, 6621334: 1012031, 1040536: 2073100, 1239193: 1012079, 1280154: 1021970, 1036143: 1063053, 1016988: 1009571, 1278109: 1036654, 1008798: 1008798, 2058402: 1024619, 1028259: 1237408, 6703268: 1260159, 10203303: 6618355, 6747304: 4538, 1325227: 1246524, 6868142: 6866886, 1033391: 1239278, 1293171: 1007614, 2111668: 2085, 1010872: 2439, 1000129: 5810, 1044729: 1046148, 10504380: 1070177, 2134206: 1062330, 1059007: 2653, 1263808: 2070227, 1006788: 1003221, 1007631: 1235753, 2025676: 1001141, 6972279: 1000985, 1115653: 1249252, 1199139: 166, 6738758: 2106357, 1051861: 1056268, 1266371: 1236703, 1012932: 1234727, 1244970: 1028445, 1007834: 1237371, 1333467: 1156425, 1023197: 1269447, 9919711: 9956508, 1197558: 1001943, 2060513: 2029258, 1203592: 1156425, 6927588: 1107395, 6666470: 1349406, 1293474: 1006885, 1266264: 1286358, 1065198: 2061677, 1097968: 1004831, 1023217: 2076786, 1301746: 1056258, 1341684: 71, 10383606: 1319489, 1071225: 1027595, 1031417: 1265996, 1016805: 3195, 6648707: 1088328, 1018110: 1018110, 1146111: 1000123, 1157380: 1018266, 9928967: 15, 1059884: 1288727, 1022947: 6951566, 9928973: 1000113, 1070350: 1034635, 1169681: 1651, 6604494: 6834637, 1013011: 1276641, 1039174: 1075543, 6827288: 1238056, 1003801: 1241757, 1075482: 1264703, 6603035: 1314538, 1130780: 1319532, 1192222: 1025647, 10713370: 1084235, 9918754: 4497, 1006577: 1261516, 6666533: 1253307, 1033265: 1136358, 1284393: 887, 1018155: 1015852, 1045804: 1247516, 6623536: 9916985, 1307528: 2036704, 1344818: 1331984, 1052982: 1011231, 1004857: 1034635, 9931068: 1003361, 1291581: 78, 1073470: 1327647, 1033536: 1008824, 4421: 1252779, 6790420: 2129177, 6689505: 1001655, 9931148: 1006896, 1038666: 1295935, 1007949: 1045811, 2017616: 1007864, 6742353: 2104058, 9929045: 153, 1172822: 1127113, 2082135: 1259297, 1139033: 1011219, 6893915: 1017065, 6634844: 1018408, 1138014: 1034635, 1261919: 6977528, 6662497: 1327588, 6688903: 6706174, 6677859: 670, 10345702: 1017065, 9929062: 1010646, 1009440: 1003272, 1022439: 4609, 1286507: 1137423, 1143149: 1093353, 6752624: 684, 1106289: 2093800, 6612338: 1257158, 1269139: 1003505, 6755702: 1014604, 10052696: 1116214, 1008020: 1277876, 1070459: 2064199, 6704508: 1006919, 2159997: 1003313, 10377598: 1010055, 2008447: 1034635, 6935936: 3016, 1014145: 1009646, 1279723: 1007263, 1234308: 59, 2103190: 1002909, 6882695: 1013167, 1001864: 1001864, 1258892: 1244746, 2140558: 2114264, 1050349: 1043653, 1027472: 2036, 1012803: 2161899, 6632852: 1001835, 6730134: 1271216, 2166168: 2025147, 1067417: 1003694, 1181082: 1009583, 1145243: 2115937, 1252764: 1003014, 1014175: 1014175, 2164170: 1247118, 1277348: 668, 1002566: 1034635, 10586534: 1008953, 1235697: 1233982, 1234344: 1012125, 1015209: 1167955, 1304801: 1307569, 6612396: 1301739, 1006322: 1006322, 6625714: 1060179, 2162103: 3195, 6723001: 2039323, 1097119: 1016561, 1129917: 1039249, 6726078: 1018408, 1015584: 1007658, 6843840: 1326, 1059744: 1254973, 1321035: 1007201, 1110471: 1007075, 2070673: 1169482, 6697417: 2013670, 10055114: 2051723, 1003979: 1247540, 1274317: 1234387, 6804942: 6676351, 1340980: 1000602, 2006482: 1140837, 1240531: 1078983, 1039828: 1018807, 1152469: 1009402, 6843863: 1326, 1011160: 1238478, 1023449: 1310185, 6819291: 1277876, 6606757: 1003888, 6670816: 2051861, 1010145: 1249657, 1210850: 2101375, 1070722: 930, 6843877: 1326, 2035175: 1007565, 1017322: 1277866, 1010155: 1252957, 1006162: 1048788, 6639087: 974, 6618608: 6785079, 1000945: 1018807, 10331634: 1000048, 6843892: 1012077, 1024502: 1009571, 6730231: 2161931, 6766073: 1006837, 9929214: 1233948, 2279509: 1322366, 6965760: 1027610, 1015298: 1247152, 6603691: 1279932, 6708740: 1089337, 2052613: 1088572, 1122824: 2148043, 1127341: 1252111, 1022552: 1249851, 1006102: 1034635, 1016343: 1014340, 1039896: 1277013, 6926874: 1014485, 2036251: 2043827, 2059804: 1008487, 1244701: 1249401, 1134651: 659, 1340959: 1000602, 9952803: 1156794, 1005489: 2003588, 10328618: 2814, 1029677: 9983203, 3630: 6951848, 2075188: 10150610, 9929269: 1238242, 1300745: 5841, 2066585: 1178346, 1212985: 1301739, 1024571: 1029592, 1006140: 1246817, 6666813: 1305683, 1116245: 1003556, 2164287: 10076841, 1104448: 1008824, 1160800: 1345290, 1006146: 1031646, 1006347: 1006347, 9919044: 2007, 5702: 1066440, 1299041: 1034635, 1011272: 1246839, 2099786: 2048617, 7023179: 5696, 2030690: 2060894, 2066701: 1063426, 1080914: 1274829, 2154067: 1279924, 6827283: 3195, 1270359: 1019163, 10237528: 1235384, 9967716: 1015426, 1012315: 1238836, 1265244: 3122, 1011293: 1489, 1261152: 1007206, 10328673: 1956, 1047140: 1277286, 1033184: 1006320, 1321574: 71, 2031207: 2031502, 1289361: 1262825, 6751850: 2070071, 1010284: 1018807, 9937520: 1147975, 1059441: 1039249, 1302130: 1291109, 6806131: 1002061, 10270142: 10096874, 1248351: 1007614, 1101433: 1755, 2684: 1002480, 2150015: 1018408, 2164352: 6922812, 2159316: 1034635, 6620802: 4377, 6607809: 1034635, 2140580: 1002672, 6614668: 7006467, 1303182: 6837566, 6657341: 10361613, 1334929: 1246709, 1017671: 1015311, 1138325: 2023771, 1079065: 1236703, 6985668: 6992655, 1002139: 1018807, 6622876: 2161595, 1140506: 1271441, 6880926: 1017065, 1253023: 1033862, 6873763: 1259700, 1012388: 1254487, 2144935: 1066433, 1011370: 1246174, 1327730: 6705745, 1000110: 1034635, 6963887: 1013095, 1092585: 1002559, 10263339: 1008093, 9930422: 1002619, 6645431: 1013510, 1291960: 1266817, 1012852: 6696725, 6933178: 809, 1038011: 718, 1006268: 1002392, 6979261: 1008583, 6606624: 1034635, 6642370: 1049114, 1036747: 1239516, 2008155: 1007801, 709: 2003588, 1340193: 2797, 6703817: 1006812, 2061602: 6748393, 10176206: 1014716, 1271505: 1003694, 1100499: 1003448, 6923988: 2140107, 1089486: 1090808, 1307351: 1055061, 1098456: 1254644, 1044186: 10076841, 1023269: 1253188, 1253088: 1238269, 9929441: 1307, 1314530: 1237371, 1038051: 6684730, 10014536: 1009583, 1292006: 1279924, 1210088: 1104179, 1010410: 1013654, 6652651: 1009454, 1278418: 1255555, 6713071: 2976, 2112240: 1246983, 10112808: 3437, 754: 754, 1208053: 1060179, 6901494: 1006485, 1273591: 1598, 6873850: 1300642, 1305341: 1010658, 6708991: 1009773, 6635073: 1259297, 1330987: 1056296, 6895364: 2153903, 162: 1332522, 1246508: 1013471, 1027851: 1063053, 1214221: 1021115, 6619918: 2140107, 1017615: 668, 1027859: 1252408, 1123801: 1034202, 1270553: 1327696, 10227482: 1000200, 1104667: 1012935, 10107676: 118, 6745885: 1268522, 1122437: 1254299, 1008416: 242, 6606625: 1034635, 1009443: 1020059, 10021668: 1250233, 9912102: 1034635, 1049384: 1008336, 6759209: 1241695, 2082602: 1043147, 1030955: 5452, 1214254: 1262045, 1327919: 9983203, 1267504: 1007885, 6818610: 1233623, 1246003: 4185, 1327070: 1341919, 1244982: 1028445, 1016631: 1006736, 1026989: 1033119, 1185593: 1028908, 1275359: 1287322, 6633276: 1013675, 9929533: 1000088, 2113342: 1134530, 2034497: 71, 6666050: 1294194, 6892355: 6785079, 6786886: 166, 1101793: 1044253, 9997128: 4303, 1281865: 1011316, 1055562: 1276662, 6852428: 1035970, 1079120: 1000655, 1014609: 1014609, 1099602: 2966, 2073427: 1006475, 6801236: 1013362, 6679381: 1027349, 10163001: 4775, 1108824: 1007415, 2025457: 951, 1254235: 1254644, 6814996: 1002912, 2067429: 1034635, 6777696: 1047693, 1016673: 1298111, 1106946: 1006039, 1298276: 6875510, 1291110: 1030060, 9954151: 779, 1300796: 2036, 1000935: 6747938, 1257324: 1240486, 6696814: 1030672, 1278781: 1021980, 6935408: 4349, 2060435: 1256876, 1058622: 1251812, 1255401: 1055061, 1007480: 1012243, 1030009: 1791, 1002778: 393, 1326264: 1235663, 1008455: 1020, 9929600: 1004129, 1130370: 2235, 1060739: 1263049, 1231677: 1294194, 1322886: 2105178, 9947015: 1292207, 1245064: 1264, 1047433: 1054273, 1276810: 420, 2020235: 1246136, 1244994: 1028445, 1287055: 1020615, 1033104: 1027610, 1351048: 71, 6638483: 1195889, 6644630: 1065358, 1071257: 1236897, 1260442: 2060894, 6812143: 1017092, 1312285: 1039017, 6835354: 1039381, 10079136: 1002328, 1025954: 2040456, 1159075: 1002152, 1318457: 1002152, 1078613: 2017, 6671271: 1033631, 1022108: 1035334, 6827946: 9983203, 1019819: 1034635, 2113453: 1003052, 1050544: 1002332, 1245000: 1028445, 1339315: 71, 9937566: 809, 1234249: 1005225, 6667192: 1086117, 10314684: 6716462, 9919424: 234, 1027009: 2004228, 1047491: 1003342, 6793156: 1319489, 9929669: 1004347, 1283015: 1001230, 1241896: 1045811, 1015753: 1261449, 10140618: 28, 10328567: 1000689, 1010636: 1239101, 2064333: 1076507, 1245134: 1007263, 6934479: 1256115, 10013648: 733, 1039314: 1203762, 6779861: 1250104, 1109974: 1007063, 1329111: 1023485, 1327067: 1308328, 1291230: 1236346, 1022183: 938, 10050528: 831, 6607841: 1015122, 1126370: 2114258, 2131963: 1020, 1156068: 1001859, 6666213: 3554, 6606823: 1267774, 6606825: 1014175, 1009499: 6730533, 1029799: 1156425, 6611952: 1269012, 2100392: 1012457, 1293301: 1001307, 2155515: 1003105, 2036732: 71, 1053693: 1170206, 10198357: 1025721}\n",
      "<class 'dict'>\n"
     ]
    }
   ],
   "source": [
    "import re\n",
    "# Split a sequence into seperate entities and store as int\n",
    "artistData = artistData.map(lambda line: (int(re.split(\"\\t\", line)[0]), re.split(\"\\t\", line)[1]))\n",
    "artistAlias = artistAlias.map(lambda line: (int(re.split(\"\\t\", line)[0]), int(re.split(\"\\t\", line)[1])))\n",
    "userArtistData = userArtistData.map(lambda line: (int(re.split(\"\\s\", line)[0]), int(re.split(\"\\s\", line)[1]), int(re.split(\"\\s\", line)[2])))\n",
    "\n",
    "print(artistData.take(2))\n",
    "print(artistAlias.take(2))\n",
    "print(userArtistData.take(2))\n",
    "print(\"===========\")\n",
    "\n",
    "# Create a dictionary of the 'artistAlias' dataset\n",
    "artistAlias_asDict = artistAlias.collectAsMap()\n",
    "# print(artistAlias_asDict)\n",
    "# print(type(artistAlias_asDict))\n",
    "\n",
    "# If artistid exists, replace with artistsid from artistAlias, else retain original\n",
    "\n",
    "\n",
    "# Create an RDD consisting of 'userid' and 'playcount' objects of original tuple\n",
    "# YOUR CODE GOES HERE\n",
    "\n",
    "# Count instances by key and store in broadcast variable\n",
    "# YOUR CODE GOES HERE\n",
    "\n",
    "# Compute and display users with the highest playcount along with their mean playcount across artists\n",
    "# YOUR CODE GOES HERE"
   ]
  },
  {
   "cell_type": "markdown",
   "metadata": {
    "collapsed": true
   },
   "source": [
    "####  Splitting Data for Testing\n",
    "\n",
    "Use the [randomSplit](http://spark.apache.org/docs/latest/api/python/pyspark.html#pyspark.RDD.randomSplit) function to divide the data (`userArtistData`) into:\n",
    "* A training set, `trainData`, that will be used to train the model. This set should constitute 40% of the data.\n",
    "* A validation set, `validationData`, used to perform parameter tuning. This set should constitute 40% of the data.\n",
    "* A test set, `testData`, used for a final evaluation of the model. This set should constitute 20% of the data.\n",
    "\n",
    "Use a random seed value of 13. Since these datasets will be repeatedly used you will probably want to persist them in memory using the [cache](http://spark.apache.org/docs/latest/api/python/pyspark.html#pyspark.RDD.cache) function.\n",
    "\n",
    "In addition, print out the first 3 elements of each set as well as their sizes; if you created these sets correctly, your output should look like the following:\n",
    "```\n",
    "[(1059637, 1000049, 1), (1059637, 1000056, 1), (1059637, 1000114, 2)]\n",
    "[(1059637, 1000010, 238), (1059637, 1000062, 11), (1059637, 1000123, 2)]\n",
    "[(1059637, 1000094, 1), (1059637, 1000112, 423), (1059637, 1000113, 5)]\n",
    "19761\n",
    "19862\n",
    "9858\n",
    "```"
   ]
  },
  {
   "cell_type": "code",
   "execution_count": null,
   "metadata": {
    "collapsed": true
   },
   "outputs": [],
   "source": [
    "# Split the 'userArtistData' dataset into training, validation and test datasets. Store in cache for frequent access\n",
    "# YOUR CODE GOES HERE\n",
    "\n",
    "# Display the first 3 records of each dataset followed by the total count of records for each datasets\n",
    "# YOUR CODE GOES HERE"
   ]
  },
  {
   "cell_type": "markdown",
   "metadata": {},
   "source": [
    "## The Recommender Model\n",
    "\n",
    "For this project, we will train the model with implicit feedback. You can read more information about this from the collaborative filtering page: [http://spark.apache.org/docs/latest/mllib-collaborative-filtering.html](http://spark.apache.org/docs/latest/mllib-collaborative-filtering.html). The [function you will be using](http://spark.apache.org/docs/latest/api/python/pyspark.mllib.html#pyspark.mllib.recommendation.ALS.trainImplicit) has a few tunable parameters that will affect how the model is built. Therefore, to get the best model, we will do a small parameter sweep and choose the model that performs the best on the validation set\n",
    "\n",
    "Therefore, we must first devise a way to evaluate models. Once we have a method for evaluation, we can run a parameter sweep, evaluate each combination of parameters on the validation data, and choose the optimal set of parameters. The parameters then can be used to make predictions on the test data.\n",
    "\n",
    "### Model Evaluation\n",
    "\n",
    "Although there may be several ways to evaluate a model, we will use a simple method here. Suppose we have a model and some dataset of *true* artist plays for a set of users. This model can be used to predict the top X artist recommendations for a user and these recommendations can be compared the artists that the user actually listened to (here, X will be the number of artists in the dataset of *true* artist plays). Then, the fraction of overlap between the top X predictions of the model and the X artists that the user actually listened to can be calculated. This process can be repeated for all users and an average value returned.\n",
    "\n",
    "For example, suppose a model predicted [1,2,4,8] as the top X=4 artists for a user. Suppose, that user actually listened to the artists [1,3,7,8]. Then, for this user, the model would have a score of 2/4=0.5. To get the overall score, this would be performed for all users, with the average returned.\n",
    "\n",
    "**NOTE: when using the model to predict the top-X artists for a user, do not include the artists listed with that user in the training data.**\n",
    "\n",
    "Name your function `modelEval` and have it take a model (the output of ALS.trainImplicit) and a dataset as input. For parameter tuning, the dataset parameter should be set to the validation data (`validationData`). After parameter tuning, the model can be evaluated on the test data (`testData`)."
   ]
  },
  {
   "cell_type": "code",
   "execution_count": null,
   "metadata": {
    "collapsed": true
   },
   "outputs": [],
   "source": [
    "def modelEval(model, dataset):\n",
    "    \n",
    "    # All artists in the 'userArtistData' dataset\n",
    "    # YOUR CODE GOES HERE\n",
    "    \n",
    "    # Set of all users in the current (Validation/Testing) dataset\n",
    "    # YOUR CODE GOES HERE\n",
    "    \n",
    "    # Create a dictionary of (key, values) for current (Validation/Testing) dataset\n",
    "    # YOUR CODE GOES HERE\n",
    "    \n",
    "    # Create a dictionary of (key, values) for training dataset\n",
    "    # YOUR CODE GOES HERE\n",
    "    \n",
    "    # For each user, calculate the prediction score i.e. similarity between predicted and actual artists\n",
    "    # YOUR CODE GOES HERE\n",
    "        \n",
    "    # Print average score of the model for all users for the specified rank\n",
    "    # YOUR CODE GOES HERE"
   ]
  },
  {
   "cell_type": "markdown",
   "metadata": {},
   "source": [
    "### Model Construction\n",
    "\n",
    "Now we can build the best model possibly using the validation set of data and the `modelEval` function. Although, there are a few parameters we could optimize, for the sake of time, we will just try a few different values for the [rank parameter](http://spark.apache.org/docs/latest/mllib-collaborative-filtering.html#collaborative-filtering) (leave everything else at its default value, **except make `seed`=345**). Loop through the values [2, 10, 20] and figure out which one produces the highest scored based on your model evaluation function.\n",
    "\n",
    "Note: this procedure may take several minutes to run.\n",
    "\n",
    "For each rank value, print out the output of the `modelEval` function for that model. Your output should look as follows:\n",
    "```\n",
    "The model score for rank 2 is ~0.090431\n",
    "The model score for rank 10 is ~0.095294\n",
    "The model score for rank 20 is ~0.090248\n",
    "```\n",
    "Step below takes 2 minutes to run. Uncomment to if you wish to run and calculate model score. "
   ]
  },
  {
   "cell_type": "code",
   "execution_count": null,
   "metadata": {
    "collapsed": true,
    "scrolled": false
   },
   "outputs": [],
   "source": [
    "# rankList = [2,10,20]\n",
    "# for rank in rankList:\n",
    "#     model = ALS.trainImplicit(trainData, rank , seed=345)\n",
    "#     modelEval(model,validationData)"
   ]
  },
  {
   "cell_type": "markdown",
   "metadata": {},
   "source": [
    "Now, using the bestModel, we will check the results over the test data. Your result should be ~`0.0507`.  \n",
    "Step below takes 1 minute to run. Uncomment last line if you wish to run and calculate model score. "
   ]
  },
  {
   "cell_type": "code",
   "execution_count": null,
   "metadata": {
    "collapsed": true
   },
   "outputs": [],
   "source": [
    "bestModel = ALS.trainImplicit(trainData, rank=10, seed=345)\n",
    "# modelEval(bestModel, testData)"
   ]
  },
  {
   "cell_type": "markdown",
   "metadata": {},
   "source": [
    "## Trying Some Artist Recommendations\n",
    "Using the best model above, predict the top 5 artists for user `1059637` using the [recommendProducts](http://spark.apache.org/docs/1.5.2/api/python/pyspark.mllib.html#pyspark.mllib.recommendation.MatrixFactorizationModel.recommendProducts) function. Map the results (integer IDs) into the real artist name using `artistAlias`. Print the results. The output should look as follows:\n",
    "```\n",
    "Artist 0: My Chemical Romance\n",
    "Artist 1: Something Corporate\n",
    "Artist 2: Evanescence\n",
    "Artist 3: Alanis Morissette\n",
    "Artist 4: Counting Crows\n",
    "```"
   ]
  },
  {
   "cell_type": "code",
   "execution_count": null,
   "metadata": {
    "collapsed": true
   },
   "outputs": [],
   "source": [
    "# Find the top 5 artists for a particular user and list their names\n",
    "# YOUR CODE GOES HERE"
   ]
  },
  {
   "cell_type": "code",
   "execution_count": null,
   "metadata": {
    "collapsed": true
   },
   "outputs": [],
   "source": []
  }
 ],
 "metadata": {
  "kernelspec": {
   "display_name": "Python 3",
   "language": "python",
   "name": "python3"
  },
  "language_info": {
   "codemirror_mode": {
    "name": "ipython",
    "version": 3
   },
   "file_extension": ".py",
   "mimetype": "text/x-python",
   "name": "python",
   "nbconvert_exporter": "python",
   "pygments_lexer": "ipython3",
   "version": "3.5.2"
  }
 },
 "nbformat": 4,
 "nbformat_minor": 2
}
